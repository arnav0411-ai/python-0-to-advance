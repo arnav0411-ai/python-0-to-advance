{
  "nbformat": 4,
  "nbformat_minor": 0,
  "metadata": {
    "colab": {
      "provenance": [],
      "authorship_tag": "ABX9TyOzc0n06DzNWypbo4eMToL2",
      "include_colab_link": true
    },
    "kernelspec": {
      "name": "python3",
      "display_name": "Python 3"
    },
    "language_info": {
      "name": "python"
    }
  },
  "cells": [
    {
      "cell_type": "markdown",
      "metadata": {
        "id": "view-in-github",
        "colab_type": "text"
      },
      "source": [
        "<a href=\"https://colab.research.google.com/github/arnav0411-ai/python-0-to-advance/blob/main/experiment1(AI).ipynb\" target=\"_parent\"><img src=\"https://colab.research.google.com/assets/colab-badge.svg\" alt=\"Open In Colab\"/></a>"
      ]
    },
    {
      "cell_type": "code",
      "execution_count": 1,
      "metadata": {
        "colab": {
          "base_uri": "https://localhost:8080/"
        },
        "id": "QFBm6Zpt_vsr",
        "outputId": "55462be1-d255-4e15-b2a9-b60ce0683173"
      },
      "outputs": [
        {
          "output_type": "stream",
          "name": "stdout",
          "text": [
            "hello world\n"
          ]
        }
      ],
      "source": [
        "print(\"hello world\")"
      ]
    },
    {
      "cell_type": "code",
      "source": [
        "#arithmatic opearators\n",
        "a=int(input(\"enter a value\"))\n",
        "b=int(input(\"enter b value\"))\n",
        "#addition\n",
        "c=a+b\n",
        "#subtraction\n",
        "d=b-a\n",
        "#multiplication\n",
        "e=a*b\n",
        "#division\n",
        "f=b/a\n",
        "#floor division\n",
        "g=b//a\n",
        "#remainder\n",
        "h=b%a\n",
        "print(f\"addition is : \" ,c)\n",
        "print(f\"subtracton is : \" ,d)\n",
        "print(f\"multiplication is : \" ,e)\n",
        "print(f\"division is : \" ,f)\n",
        "print(f\"floor division is : \" ,g)\n",
        "print(f\"remainder is : \" ,h)\n",
        "print(f\"exponential is :\",a**b)"
      ],
      "metadata": {
        "colab": {
          "base_uri": "https://localhost:8080/"
        },
        "id": "1GhP1bTTBYY5",
        "outputId": "637590c7-78d6-4b19-c869-3ff8cc79de46"
      },
      "execution_count": 8,
      "outputs": [
        {
          "output_type": "stream",
          "name": "stdout",
          "text": [
            "enter a value10\n",
            "enter b value2\n",
            "addition is :  12\n",
            "subtracton is :  -8\n",
            "multiplication is :  20\n",
            "division is :  0.2\n",
            "floor division is :  0\n",
            "remainder is :  2\n",
            "exponential is : 100\n"
          ]
        }
      ]
    },
    {
      "cell_type": "code",
      "source": [
        "#relational operators\n",
        "#<,>,=,!=,>=,<=\n",
        "x=5\n",
        "y=10\n",
        "print(\"less than :\",x<y)\n",
        "print(\"greater than : \",x>y)\n",
        "print(\"equal :\" ,x==y)\n",
        "print(\"not equal :\",x!=y)\n",
        "print(\"less than or equals to :\" ,x<=y)\n",
        "print(\"greater than or equals to :\",x>=y)"
      ],
      "metadata": {
        "colab": {
          "base_uri": "https://localhost:8080/"
        },
        "id": "ZCu36b2BDZXZ",
        "outputId": "b130a8d5-5e68-4b68-e9ad-026bfe1da98d"
      },
      "execution_count": 11,
      "outputs": [
        {
          "output_type": "stream",
          "name": "stdout",
          "text": [
            "less than : True\n",
            "greater than :  False\n",
            "equal : False\n",
            "not equal : True\n",
            "less than or equals to : True\n",
            "greater than or equals to : False\n"
          ]
        }
      ]
    },
    {
      "cell_type": "code",
      "source": [
        "#assingment operators\n",
        "a=5\n",
        "a+=3\n",
        "print(\"After += :\", a)\n",
        "a-=1\n",
        "print(\"After -= :\", a)\n",
        "a*=2\n",
        "print(\"After *= :\", a)\n",
        "a/=1\n",
        "print(\"After /= :\", a)\n",
        "a//=2\n",
        "print(\"After //= :\", a)\n",
        "a%=2\n",
        "print(\"After %= :\", a)\n",
        "a**=2\n",
        "print(\"After **= :\", a)"
      ],
      "metadata": {
        "colab": {
          "base_uri": "https://localhost:8080/"
        },
        "id": "6iDT9dtgFPVk",
        "outputId": "8ec34d1c-e5b6-4af5-e112-30773155b6c6"
      },
      "execution_count": 12,
      "outputs": [
        {
          "output_type": "stream",
          "name": "stdout",
          "text": [
            "After += : 8\n",
            "After -= : 7\n",
            "After *= : 14\n",
            "After /= : 14.0\n",
            "After //= : 7.0\n",
            "After %= : 1.0\n",
            "After **= : 1.0\n"
          ]
        }
      ]
    },
    {
      "cell_type": "code",
      "source": [
        "# Logical Operators\n",
        "#and , or, not\n",
        "x=True\n",
        "y=False\n",
        "print(\"x and y : \",x and y)\n",
        "print(\"x or y : \",x or y)\n",
        "print(\"not x : \" ,not x)\n",
        "print(\"not y : \",not y)"
      ],
      "metadata": {
        "colab": {
          "base_uri": "https://localhost:8080/"
        },
        "id": "U7QdM8AbGfqI",
        "outputId": "6ce8b9b0-328d-4693-91c8-a57f7f42c9cc"
      },
      "execution_count": 14,
      "outputs": [
        {
          "output_type": "stream",
          "name": "stdout",
          "text": [
            "x and y :  False\n",
            "x or y :  True\n",
            "not x :  False\n",
            "not y :  True\n"
          ]
        }
      ]
    },
    {
      "cell_type": "code",
      "source": [
        "#5: Bitwise operators\n",
        "a=5\n",
        "b=3\n",
        "print(\"Bitwise and :\" , a & b)\n",
        "print(\"Bitwise or  :\" , a | b)\n",
        "print(\"Bitwise XOR :\" , a^b)\n",
        "print(\"Bitwise not for a :\" , ~a)\n",
        "print(\"Bitwise not for b :\" , ~b)\n",
        "print(\"Bitwise left shift :\" , a<<b)\n",
        "print(\"Bitwise right shift :\" , a>>b)"
      ],
      "metadata": {
        "colab": {
          "base_uri": "https://localhost:8080/"
        },
        "id": "0dUQ1aU0HUiw",
        "outputId": "d0c5e424-f8bb-4878-ea3e-c785e4995147"
      },
      "execution_count": 17,
      "outputs": [
        {
          "output_type": "stream",
          "name": "stdout",
          "text": [
            "Bitwise and : 1\n",
            "Bitwise or  : 7\n",
            "Bitwise XOR : 6\n",
            "Bitwise not for a : -6\n",
            "Bitwise not for b : -4\n",
            "Bitwise left shift : 40\n",
            "Bitwise right shift : 0\n"
          ]
        }
      ]
    }
  ]
}